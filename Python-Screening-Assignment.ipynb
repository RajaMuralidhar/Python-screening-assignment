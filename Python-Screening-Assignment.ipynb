{
 "cells": [
  {
   "cell_type": "markdown",
   "id": "e6fd1f58",
   "metadata": {},
   "source": [
    "# Python Screening Assignment\n"
   ]
  },
  {
   "cell_type": "markdown",
   "id": "a70f8e60",
   "metadata": {},
   "source": [
    "# Q1.Create a function in python to read the text file and replace specific content of the file."
   ]
  },
  {
   "cell_type": "code",
   "execution_count": 13,
   "id": "03a194bb",
   "metadata": {},
   "outputs": [
    {
     "data": {
      "text/plain": [
       "'This is a screening assignment'"
      ]
     },
     "execution_count": 13,
     "metadata": {},
     "output_type": "execute_result"
    }
   ],
   "source": [
    "f=open('example.txt','w')\n",
    "f.write('This is a placement assignment')\n",
    "f.close()\n",
    "def replace_text(replace):\n",
    "    f=open('example.txt','r+')\n",
    "    r=f.read()\n",
    "    result=r.replace('placement',replace)\n",
    "    f.truncate()\n",
    "    f.seek(0)\n",
    "    f.write(result)\n",
    "    f.close()\n",
    "    return result\n",
    "replace_text('screening')"
   ]
  },
  {
   "cell_type": "markdown",
   "id": "4aba98c3",
   "metadata": {},
   "source": [
    "# 2. Demonstrate use of abstract class, multiple inheritance and decorator in python using examples."
   ]
  },
  {
   "cell_type": "markdown",
   "id": "bf2acd74",
   "metadata": {},
   "source": [
    "# Abstract class:"
   ]
  },
  {
   "cell_type": "markdown",
   "id": "3a694cfa",
   "metadata": {},
   "source": [
    "\n",
    "    \n",
    "In object-oriented programming, an abstract class is a class that cannot be instantiated. However, you can create classes that inherit from an abstract class.\n",
    "Typically, you use an abstract class to create a blueprint for other classes.\n"
   ]
  },
  {
   "cell_type": "code",
   "execution_count": 19,
   "id": "15eaa494",
   "metadata": {},
   "outputs": [
    {
     "name": "stdout",
     "output_type": "stream",
     "text": [
      "I have 3 sides\n",
      "I have 4 sides\n",
      "I have 5 sides\n",
      "I have 6 sides\n"
     ]
    }
   ],
   "source": [
    "\n",
    "\n",
    "from abc import ABC, abstractmethod\n",
    "class Polygon(ABC):\n",
    " \n",
    "    @abstractmethod\n",
    "    def no_of_sides(self):\n",
    "        pass\n",
    "\n",
    "class Triangle(Polygon):\n",
    "    def no_of_sides(self):\n",
    "        print(\"I have 3 sides\") \n",
    "class Pentagon(Polygon):\n",
    "    def no_of_sides(self):\n",
    "        print(\"I have 5 sides\") \n",
    "class Hexagon(Polygon):\n",
    "    def no_of_sides(self):\n",
    "        print(\"I have 6 sides\") \n",
    "class Quadrilateral(Polygon): \n",
    "    def no_of_sides(self):\n",
    "        print(\"I have 4 sides\")\n",
    "\n",
    "R = Triangle()\n",
    "R.no_of_sides()\n",
    " \n",
    "K = Quadrilateral()\n",
    "K.no_of_sides()\n",
    " \n",
    "R = Pentagon()\n",
    "R.no_of_sides()\n",
    " \n",
    "K = Hexagon()\n",
    "K.no_of_sides()"
   ]
  },
  {
   "cell_type": "markdown",
   "id": "71eba182",
   "metadata": {},
   "source": [
    "# Multiple Inheritance"
   ]
  },
  {
   "cell_type": "markdown",
   "id": "518d0f12",
   "metadata": {},
   "source": [
    "Multiple inheritance is a feature in which an object or class can inherit characteristics and features from more than one parent object or the parent class .\n"
   ]
  },
  {
   "cell_type": "code",
   "execution_count": 16,
   "id": "4c81c7f0",
   "metadata": {},
   "outputs": [
    {
     "name": "stdout",
     "output_type": "stream",
     "text": [
      " This is a Benz Car \n",
      " This is a BMW Bike \n",
      " This is a Volvo Bus \n",
      " This is a Eicher Truck \n",
      " This is a Indigo plane \n",
      "This is the Main Class\n"
     ]
    }
   ],
   "source": [
    "class Car():\n",
    "    def Benz(self):\n",
    "        print(\" This is a Benz Car \")\n",
    "class Bike():\n",
    "    def Bmw(self):\n",
    "        print(\" This is a BMW Bike \")\n",
    "class Bus():\n",
    "    def Volvo(self):\n",
    "        print(\" This is a Volvo Bus \")\n",
    "class Truck():\n",
    "    def Eicher(self):\n",
    "        print(\" This is a Eicher Truck \")\n",
    "class Plane():\n",
    "    def Indigo(self):\n",
    "        print(\" This is a Indigo plane \")\n",
    "class Transport(Car,Bike,Bus,Truck,Plane):\n",
    "    def Main(self):\n",
    "        print(\"This is the Main Class\")\n",
    "C=Transport()\n",
    "C.Benz()\n",
    "C.Bmw()\n",
    "C.Volvo()\n",
    "C.Eicher()\n",
    "C.Indigo()\n",
    "C.Main()"
   ]
  },
  {
   "cell_type": "markdown",
   "id": "c9a306d2",
   "metadata": {},
   "source": [
    "# Decorator"
   ]
  },
  {
   "cell_type": "markdown",
   "id": "109bdd7a",
   "metadata": {},
   "source": [
    "\n",
    "Decorator is a function that takes function as an input and enhances the existing functionality.\n",
    "Basically, a decorator takes in a function, adds some functionality and returns it."
   ]
  },
  {
   "cell_type": "code",
   "execution_count": 22,
   "id": "222a8aac",
   "metadata": {},
   "outputs": [],
   "source": [
    "\n",
    "def make_beautiful(func):\n",
    "    def inner():\n",
    "        print(\"I got decorated\")\n",
    "        func()\n",
    "    return inner\n",
    "\n",
    "@make_beautiful\n",
    "def ordinary():\n",
    "    print(\"I am ordinary\")\n",
    "\n"
   ]
  },
  {
   "cell_type": "code",
   "execution_count": 23,
   "id": "c08e8f75",
   "metadata": {},
   "outputs": [
    {
     "name": "stdout",
     "output_type": "stream",
     "text": [
      "I got decorated\n",
      "I am ordinary\n"
     ]
    }
   ],
   "source": [
    "ordinary()"
   ]
  },
  {
   "cell_type": "code",
   "execution_count": null,
   "id": "92f9d44b",
   "metadata": {},
   "outputs": [],
   "source": []
  },
  {
   "cell_type": "code",
   "execution_count": null,
   "id": "d2cd9c85",
   "metadata": {},
   "outputs": [],
   "source": []
  }
 ],
 "metadata": {
  "kernelspec": {
   "display_name": "Python 3 (ipykernel)",
   "language": "python",
   "name": "python3"
  },
  "language_info": {
   "codemirror_mode": {
    "name": "ipython",
    "version": 3
   },
   "file_extension": ".py",
   "mimetype": "text/x-python",
   "name": "python",
   "nbconvert_exporter": "python",
   "pygments_lexer": "ipython3",
   "version": "3.9.7"
  }
 },
 "nbformat": 4,
 "nbformat_minor": 5
}
